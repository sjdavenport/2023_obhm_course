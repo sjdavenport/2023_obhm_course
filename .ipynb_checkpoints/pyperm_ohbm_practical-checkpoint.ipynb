{
 "cells": [
  {
   "cell_type": "markdown",
   "metadata": {},
   "source": [
    "# TDP Inference in Regression - OHBM 2023\n",
    "## Beyond Blobology: Advances in Statistical Inference for Neuroimaging\n",
    "\n",
    "In this practical you will learn how to perform TDP inference in general linear models. At the end of the practical you should be able to provide TDP bounds in the regression setting. We will begin with a simulation setting in which we shall introduce the main functions needed and introduce some of the basic concepts. We shall then apply these methods to a regression example from the HCP Working-Memory task."
   ]
  },
  {
   "cell_type": "markdown",
   "metadata": {},
   "source": [
    "## Set Up"
   ]
  },
  {
   "cell_type": "markdown",
   "metadata": {},
   "source": [
    "To get started we need to install and import the following python packages"
   ]
  },
  {
   "cell_type": "code",
   "execution_count": 1,
   "metadata": {},
   "outputs": [
    {
     "name": "stdout",
     "output_type": "stream",
     "text": [
      "Collecting git+https://github.com/sjdavenport/pyperm-install\n",
      "  Cloning https://github.com/sjdavenport/pyperm-install to c:\\users\\12sda\\appdata\\local\\temp\\pip-req-build-o4kqhu6h\n",
      "  Resolved https://github.com/sjdavenport/pyperm-install to commit b10c8a845e7fa91a1512ad86763cd6b3500a1e68\n",
      "  Preparing metadata (setup.py): started\n",
      "  Preparing metadata (setup.py): finished with status 'done'\n",
      "Requirement already satisfied: numpy in c:\\users\\12sda\\appdata\\local\\programs\\python\\python38-32\\lib\\site-packages (from pyperm==0.0.2) (1.20.2)\n",
      "Requirement already satisfied: sanssouci in c:\\users\\12sda\\appdata\\local\\programs\\python\\python38-32\\lib\\site-packages (from pyperm==0.0.2) (0.1.2)\n",
      "Requirement already satisfied: matplotlib in c:\\users\\12sda\\appdata\\local\\programs\\python\\python38-32\\lib\\site-packages (from pyperm==0.0.2) (3.2.1)\n",
      "Requirement already satisfied: sklearn in c:\\users\\12sda\\appdata\\local\\programs\\python\\python38-32\\lib\\site-packages (from pyperm==0.0.2) (0.0)\n",
      "Requirement already satisfied: scipy in c:\\users\\12sda\\appdata\\local\\programs\\python\\python38-32\\lib\\site-packages (from pyperm==0.0.2) (1.4.1)\n",
      "Requirement already satisfied: scikit-image in c:\\users\\12sda\\appdata\\local\\programs\\python\\python38-32\\lib\\site-packages (from pyperm==0.0.2) (0.18.1)\n",
      "Requirement already satisfied: nilearn in c:\\users\\12sda\\appdata\\roaming\\python\\python38\\site-packages (from pyperm==0.0.2) (0.7.0)\n",
      "Requirement already satisfied: cycler>=0.10 in c:\\users\\12sda\\appdata\\local\\programs\\python\\python38-32\\lib\\site-packages (from matplotlib->pyperm==0.0.2) (0.10.0)\n",
      "Requirement already satisfied: kiwisolver>=1.0.1 in c:\\users\\12sda\\appdata\\local\\programs\\python\\python38-32\\lib\\site-packages (from matplotlib->pyperm==0.0.2) (1.2.0)\n",
      "Requirement already satisfied: pyparsing!=2.0.4,!=2.1.2,!=2.1.6,>=2.0.1 in c:\\users\\12sda\\appdata\\local\\programs\\python\\python38-32\\lib\\site-packages (from matplotlib->pyperm==0.0.2) (2.4.7)\n",
      "Requirement already satisfied: python-dateutil>=2.1 in c:\\users\\12sda\\appdata\\local\\programs\\python\\python38-32\\lib\\site-packages (from matplotlib->pyperm==0.0.2) (2.8.1)\n",
      "Requirement already satisfied: joblib>=0.12 in c:\\users\\12sda\\appdata\\local\\programs\\python\\python38-32\\lib\\site-packages (from nilearn->pyperm==0.0.2) (1.3.1)\n",
      "Requirement already satisfied: nibabel>=2.0.2 in c:\\users\\12sda\\appdata\\roaming\\python\\python38\\site-packages (from nilearn->pyperm==0.0.2) (3.2.1)\n",
      "Requirement already satisfied: pandas>=0.18.0 in c:\\users\\12sda\\appdata\\local\\programs\\python\\python38-32\\lib\\site-packages (from nilearn->pyperm==0.0.2) (1.0.4)\n",
      "Requirement already satisfied: requests>=2 in c:\\users\\12sda\\appdata\\local\\programs\\python\\python38-32\\lib\\site-packages (from nilearn->pyperm==0.0.2) (2.23.0)\n",
      "Requirement already satisfied: scikit-learn>=0.19 in c:\\users\\12sda\\appdata\\roaming\\python\\python38\\site-packages (from nilearn->pyperm==0.0.2) (0.24.0)\n",
      "Requirement already satisfied: networkx>=2.0 in c:\\users\\12sda\\appdata\\local\\programs\\python\\python38-32\\lib\\site-packages (from scikit-image->pyperm==0.0.2) (2.5.1)\n",
      "Requirement already satisfied: pillow!=7.1.0,!=7.1.1,>=4.3.0 in c:\\users\\12sda\\appdata\\local\\programs\\python\\python38-32\\lib\\site-packages (from scikit-image->pyperm==0.0.2) (8.2.0)\n",
      "Requirement already satisfied: imageio>=2.3.0 in c:\\users\\12sda\\appdata\\local\\programs\\python\\python38-32\\lib\\site-packages (from scikit-image->pyperm==0.0.2) (2.9.0)\n",
      "Requirement already satisfied: tifffile>=2019.7.26 in c:\\users\\12sda\\appdata\\local\\programs\\python\\python38-32\\lib\\site-packages (from scikit-image->pyperm==0.0.2) (2021.4.8)\n",
      "Requirement already satisfied: PyWavelets>=1.1.1 in c:\\users\\12sda\\appdata\\local\\programs\\python\\python38-32\\lib\\site-packages (from scikit-image->pyperm==0.0.2) (1.1.1)\n",
      "Requirement already satisfied: six in c:\\users\\12sda\\appdata\\local\\programs\\python\\python38-32\\lib\\site-packages (from cycler>=0.10->matplotlib->pyperm==0.0.2) (1.15.0)\n",
      "Requirement already satisfied: decorator<5,>=4.3 in c:\\users\\12sda\\appdata\\local\\programs\\python\\python38-32\\lib\\site-packages (from networkx>=2.0->scikit-image->pyperm==0.0.2) (4.4.2)\n",
      "Requirement already satisfied: packaging>=14.3 in c:\\users\\12sda\\appdata\\local\\programs\\python\\python38-32\\lib\\site-packages (from nibabel>=2.0.2->nilearn->pyperm==0.0.2) (21.3)\n",
      "Requirement already satisfied: pytz>=2017.2 in c:\\users\\12sda\\appdata\\local\\programs\\python\\python38-32\\lib\\site-packages (from pandas>=0.18.0->nilearn->pyperm==0.0.2) (2020.1)\n",
      "Requirement already satisfied: chardet<4,>=3.0.2 in c:\\users\\12sda\\appdata\\local\\programs\\python\\python38-32\\lib\\site-packages (from requests>=2->nilearn->pyperm==0.0.2) (3.0.4)\n",
      "Requirement already satisfied: idna<3,>=2.5 in c:\\users\\12sda\\appdata\\local\\programs\\python\\python38-32\\lib\\site-packages (from requests>=2->nilearn->pyperm==0.0.2) (2.9)\n",
      "Requirement already satisfied: urllib3!=1.25.0,!=1.25.1,<1.26,>=1.21.1 in c:\\users\\12sda\\appdata\\local\\programs\\python\\python38-32\\lib\\site-packages (from requests>=2->nilearn->pyperm==0.0.2) (1.25.9)\n",
      "Requirement already satisfied: certifi>=2017.4.17 in c:\\users\\12sda\\appdata\\local\\programs\\python\\python38-32\\lib\\site-packages (from requests>=2->nilearn->pyperm==0.0.2) (2020.4.5.1)\n",
      "Requirement already satisfied: threadpoolctl>=2.0.0 in c:\\users\\12sda\\appdata\\roaming\\python\\python38\\site-packages (from scikit-learn>=0.19->nilearn->pyperm==0.0.2) (2.1.0)\n",
      "Building wheels for collected packages: pyperm\n",
      "  Building wheel for pyperm (setup.py): started\n",
      "  Building wheel for pyperm (setup.py): finished with status 'done'\n",
      "  Created wheel for pyperm: filename=pyperm-0.0.2-py3-none-any.whl size=39217 sha256=12b7990bc3efdaac0d978c46ad7361a72a285af40940a444bac366c179ed166a\n",
      "  Stored in directory: C:\\Users\\12SDa\\AppData\\Local\\Temp\\pip-ephem-wheel-cache-x1qtnlhd\\wheels\\57\\0e\\d9\\e522fe4f2abf037038b293dfacac149b1d7845c3dd1f230e39\n",
      "Successfully built pyperm\n",
      "Installing collected packages: pyperm\n",
      "Successfully installed pyperm-0.0.2\n",
      "Note: you may need to restart the kernel to use updated packages.\n"
     ]
    },
    {
     "name": "stderr",
     "output_type": "stream",
     "text": [
      "WARNING: Ignoring invalid distribution -yperm (c:\\users\\12sda\\appdata\\local\\programs\\python\\python38-32\\lib\\site-packages)\n",
      "  Running command git clone --filter=blob:none --quiet https://github.com/sjdavenport/pyperm-install 'C:\\Users\\12SDa\\AppData\\Local\\Temp\\pip-req-build-o4kqhu6h'\n",
      "WARNING: Ignoring invalid distribution -yperm (c:\\users\\12sda\\appdata\\local\\programs\\python\\python38-32\\lib\\site-packages)\n"
     ]
    }
   ],
   "source": [
    "%pip install git+https://github.com/sjdavenport/pyperm-install"
   ]
  },
  {
   "cell_type": "code",
   "execution_count": 1,
   "metadata": {},
   "outputs": [],
   "source": [
    "import numpy as np\n",
    "import numpy.matlib as npm\n",
    "import matplotlib.pyplot as plt \n",
    "\n",
    "import sanssouci as ss\n",
    "\n",
    "import pyperm as pr"
   ]
  },
  {
   "cell_type": "markdown",
   "metadata": {},
   "source": [
    "## Simulation Example"
   ]
  },
  {
   "cell_type": "markdown",
   "metadata": {},
   "source": [
    "### Generate the simulated data"
   ]
  },
  {
   "cell_type": "code",
   "execution_count": 64,
   "metadata": {},
   "outputs": [
    {
     "name": "stdout",
     "output_type": "stream",
     "text": [
      "[[0. 1. 0.]\n",
      " [0. 0. 1.]\n",
      " [0. 1. 0.]\n",
      " [0. 1. 0.]\n",
      " [0. 1. 0.]]\n"
     ]
    }
   ],
   "source": [
    "# Set the dimension of the example and the number of subjects\n",
    "Dim = (50,50)\n",
    "N = 100\n",
    "nvoxels = np.prod(Dim)\n",
    "\n",
    "# Generate the category vector and obtain the corresponding design matrix\n",
    "from sklearn.utils import check_random_state\n",
    "rng = check_random_state(101)\n",
    "categ = rng.choice(3, N, replace = True)\n",
    "X = pr.group_design(categ)\n",
    "print(X[0:5,])"
   ]
  },
  {
   "cell_type": "code",
   "execution_count": 65,
   "metadata": {},
   "outputs": [
    {
     "data": {
      "text/plain": [
       "<matplotlib.image.AxesImage at 0xed2def8>"
      ]
     },
     "execution_count": 65,
     "metadata": {},
     "output_type": "execute_result"
    },
    {
     "data": {
      "image/png": "[encoded data removed]",
      "text/plain": [
       "<Figure size 432x288 with 1 Axes>"
      ]
     },
     "metadata": {
      "needs_background": "light"
     },
     "output_type": "display_data"
    }
   ],
   "source": [
    "# Specify the contrast matrix (here 2 contrasts are chosen)\n",
    "C = np.array([[1, -1, 0], [0, 1, -1]])\n",
    "\n",
    "# Calulate the number contrasts\n",
    "L = C.shape[0]\n",
    "\n",
    "# Calculate the number of p-values generated (L for each voxel)\n",
    "m = nvoxels * L\n",
    "\n",
    "# Generate a stationary random field with given FWHM\n",
    "FWHM = 4; lat_data = pr.statnoise(Dim, N, FWHM)\n",
    "\n",
    "# Alternatively could generate a white noise field\n",
    "#lat_data = pr.wfield(Dim, N)\n",
    "\n",
    "# Plot a sample realization of the noise\n",
    "plt.imshow(lat_data.field[:, :, 1])  "
   ]
  },
  {
   "cell_type": "markdown",
   "metadata": {},
   "source": [
    "### Add signal to the field"
   ]
  },
  {
   "cell_type": "code",
   "execution_count": 56,
   "metadata": {},
   "outputs": [
    {
     "data": {
      "text/plain": [
       "<matplotlib.image.AxesImage at 0x1062bd60>"
      ]
     },
     "execution_count": 56,
     "metadata": {},
     "output_type": "execute_result"
    },
    {
     "data": {
      "image/png": "[encoded data removed]",
      "text/plain": [
       "<Figure size 432x288 with 1 Axes>"
      ]
     },
     "metadata": {
      "needs_background": "light"
     },
     "output_type": "display_data"
    }
   ],
   "source": [
    "# Obtain the locations where the category is 2\n",
    "w2 = np.where(categ==2)[0]\n",
    "\n",
    "# Initialize the spatial signal\n",
    "pi0 = 0.9  # proportion of noise (true null hypotheses)\n",
    "p0 = int(np.round(pi0 * nvoxels))\n",
    "signal = np.zeros(nvoxels)\n",
    "signal[(p0 + 1): nvoxels] = 0.7\n",
    "signal = signal.reshape(Dim)\n",
    "\n",
    "# Add the signal to the field\n",
    "for I in np.arange(len(w2)):\n",
    "    lat_data.field[:, :, w2[I]] += signal\n",
    "\n",
    "# Convert the signal to boolean to determine whether the true signal is\n",
    "bool_signal = np.zeros(Dim + (L,)) == 0\n",
    "bool_signal[:, :, 1] = signal > 0 \n",
    "\n",
    "# Plot the locaion locations for illustration\n",
    "plt.imshow(signal)"
   ]
  },
  {
   "cell_type": "markdown",
   "metadata": {},
   "source": [
    "## Posthoc Inference"
   ]
  },
  {
   "cell_type": "markdown",
   "metadata": {},
   "source": [
    "### Bootstrapping the Data"
   ]
  },
  {
   "cell_type": "markdown",
   "metadata": {},
   "source": [
    "Bootstrapping is performed using the residuals of the linear model. This gives test-statistics that have the same asymptotic distribution as the limiting test-statistic (under the null). See Eck 2017 and Freedman 1981 for further details. In our context we use these to obtain bootstrapped pivotal statistics which allow us to obtain asymptotic JER control."
   ]
  },
  {
   "cell_type": "code",
   "execution_count": 57,
   "metadata": {},
   "outputs": [],
   "source": [
    "# Specify the number of bootstraps to use\n",
    "B = 100\n",
    "\n",
    "# Choose the template to use (by default the linear template is chosen)\n",
    "template = 'linear'\n",
    "\n",
    "# Run the bootstrapped algorithm (takes a few seconds to run)\n",
    "minPperm, orig_pvalues, pivotal_stats, bs = pr.boot_contrasts(lat_data, X, C, B, template, True, 1)"
   ]
  },
  {
   "cell_type": "markdown",
   "metadata": {},
   "source": [
    "#### Plotting the p-values"
   ]
  },
  {
   "cell_type": "code",
   "execution_count": 66,
   "metadata": {},
   "outputs": [
    {
     "data": {
      "image/png": "[encoded data removed]",
      "text/plain": [
       "<Figure size 432x288 with 2 Axes>"
      ]
     },
     "metadata": {
      "needs_background": "light"
     },
     "output_type": "display_data"
    }
   ],
   "source": [
    "pval_sort_idx = np.argsort(np.ravel(orig_pvalues.field))\n",
    "pvals = np.ravel(orig_pvalues.field)[pval_sort_idx]\n",
    "\n",
    "figure, axes = plt.subplots(nrows=1, ncols=2) \n",
    "plt.subplot(121)\n",
    "plt.hist(np.ravel(orig_pvalues.field), 100)\n",
    "plt.title('Histogram of the p-values')\n",
    "plt.ylabel('Counts')\n",
    "\n",
    "plt.subplot(122)\n",
    "plt.plot(pvals[:np.min([1000, npvals])])\n",
    "plt.title('Smallest 1000 p-values')\n",
    "plt.xlabel('k')\n",
    "plt.ylabel('p_{(k)}')\n",
    "\n",
    "figure.tight_layout(pad=3.0)"
   ]
  },
  {
   "cell_type": "markdown",
   "metadata": {},
   "source": [
    "#### The bootstrap distribution of the minimum"
   ]
  },
  {
   "cell_type": "markdown",
   "metadata": {},
   "source": [
    "minPperm is the vector of permuted minimum statistics, importantly it includes the original data as one of the permutations in order to avoid 0 p-values. In particular, for $b = 1, ..., B$, minPperm[b-1] = $\\min_{l,v} p^b_{l,v}$ where $p^b_{l,v}$ denotes the $b$th bootstrap of the p-value at voxel $v$ and contrast $l$. We visualize its distribution of the values in minPperm in the following plot. Note that the distribution is skewed to the left because it is the distribution of the minimum of many p-values under the global null."
   ]
  },
  {
   "cell_type": "code",
   "execution_count": 61,
   "metadata": {},
   "outputs": [
    {
     "data": {
      "text/plain": [
       "(array([78.,  9.,  6.,  3.,  1.,  0.,  1.,  1.,  0.,  1.]),\n",
       " array([2.70019492e-06, 1.88445356e-03, 3.76620693e-03, 5.64796029e-03,\n",
       "        7.52971366e-03, 9.41146703e-03, 1.12932204e-02, 1.31749738e-02,\n",
       "        1.50567271e-02, 1.69384805e-02, 1.88202339e-02]),\n",
       " <a list of 10 Patch objects>)"
      ]
     },
     "execution_count": 61,
     "metadata": {},
     "output_type": "execute_result"
    },
    {
     "data": {
      "image/png": "[encoded data removed]",
      "text/plain": [
       "<Figure size 432x288 with 1 Axes>"
      ]
     },
     "metadata": {
      "needs_background": "light"
     },
     "output_type": "display_data"
    }
   ],
   "source": [
    "import matplotlib.pyplot as plt\n",
    "plt.hist(minPperm)"
   ]
  },
  {
   "cell_type": "markdown",
   "metadata": {},
   "source": [
    "#### The bootstrap distribution of the pivotal statistics"
   ]
  },
  {
   "cell_type": "markdown",
   "metadata": {},
   "source": [
    "Analogously when seeking to provide simultaneous bounds on the TDP we instead must use quantiles of the pivotal statistics. To do so we can use the vector pivotal_stats. Given a given template family of invertible functions: $(t_k)_{1 \\leq k \\leq m}$ for $b = 1, ..., B$, we have pivotal_stats[b-1] = $\\min_{1 \\leq k \\leq m} t_k^{-1}(p_{(k:m)}^b)$ where $p_{(k:m)}^b$ is the $b$ th bootstrap of the $k$th minimum p-value. In what follows we shall use the linear template family, which is defined as $t_k(\\lambda) = \\frac{\\lambda k}{m}$.\n",
    "\n",
    "Earlier today we showed that, given $\\alpha \\in (0,1)$, taking $\\lambda_\\alpha^*$ to be the $\\alpha$-quantile of the distribution of the pivotal statistics enables us to provide valid simultaneous bounds on the true discovery proportion (TDP) given any subset of the p-values."
   ]
  },
  {
   "cell_type": "code",
   "execution_count": 70,
   "metadata": {},
   "outputs": [
    {
     "data": {
      "text/plain": [
       "(array([ 8.,  6.,  6.,  6., 10.,  4.,  3., 10.,  6., 41.]),\n",
       " array([0.00739559, 0.10665302, 0.20591044, 0.30516787, 0.40442529,\n",
       "        0.50368271, 0.60294014, 0.70219756, 0.80145498, 0.90071241,\n",
       "        0.99996983]),\n",
       " <a list of 10 Patch objects>)"
      ]
     },
     "execution_count": 70,
     "metadata": {},
     "output_type": "execute_result"
    },
    {
     "data": {
      "image/png": "[encoded data removed]",
      "text/plain": [
       "<Figure size 432x288 with 1 Axes>"
      ]
     },
     "metadata": {
      "needs_background": "light"
     },
     "output_type": "display_data"
    }
   ],
   "source": [
    "plt.hist(pivotal_stats)"
   ]
  },
  {
   "cell_type": "markdown",
   "metadata": {},
   "source": [
    "### Lambda Calibration"
   ]
  },
  {
   "cell_type": "markdown",
   "metadata": {},
   "source": [
    "Using the bootstrapped pivotal_stats that we have calculated we can choose a value lambda that is the $\\alpha\\%$ quantile of the distribution in order to provide asymptotically valid bounds on the TDP which hold with probability $1-\\alpha$."
   ]
  },
  {
   "cell_type": "markdown",
   "metadata": {},
   "source": [
    "#### Obtaining the lambda quantile"
   ]
  },
  {
   "cell_type": "code",
   "execution_count": 75,
   "metadata": {},
   "outputs": [
    {
     "name": "stdout",
     "output_type": "stream",
     "text": [
      "Lambda Quantile: 0.14802307643957402\n"
     ]
    }
   ],
   "source": [
    "# Choose the confidence level\n",
    "alpha = 0.1\n",
    "\n",
    "# Obtain the lambda calibration\n",
    "lambda_star_alpha = np.quantile(pivotal_stats, alpha)\n",
    "print('Lambda Quantile:', lambda_star_alpha)\n",
    "\n",
    "# Calculate the number of voxels in the mask\n",
    "nvoxels = np.sum(lat_data.mask)\n",
    "\n",
    "# Gives t_k(lambda_star_alpha) = lambda_star_alpha*k/npvals for k = 1, ..., npvals\n",
    "thr = ss.linear_template(lambda_star_alpha, npvals, npvals)"
   ]
  },
  {
   "cell_type": "markdown",
   "metadata": {},
   "source": [
    "As we can see from the code below, thr[k-1] = $\\frac{\\lambda^*_{\\alpha}k}{m}$."
   ]
  },
  {
   "cell_type": "code",
   "execution_count": 104,
   "metadata": {},
   "outputs": [
    {
     "name": "stdout",
     "output_type": "stream",
     "text": [
      "[2.96046153e-05 5.92092306e-05 8.88138459e-05 ... 1.47963867e-01\n",
      " 1.47993472e-01 1.48023076e-01]\n",
      "2.9604615287914805e-05\n",
      "5.920923057582961e-05\n"
     ]
    }
   ],
   "source": [
    "print(thr)\n",
    "print(lambda_star_alpha*(1/m))\n",
    "print(lambda_star_alpha*(2/m))"
   ]
  },
  {
   "cell_type": "markdown",
   "metadata": {},
   "source": [
    "#### PostHoc Bound"
   ]
  },
  {
   "cell_type": "markdown",
   "metadata": {},
   "source": [
    "For a chosen subset of voxels we can use this alpha quantile to provide a bound on the number of true null hypotheses within that subset. Try varying the set of p-values used to see how the bound changes."
   ]
  },
  {
   "cell_type": "code",
   "execution_count": 101,
   "metadata": {},
   "outputs": [
    {
     "name": "stdout",
     "output_type": "stream",
     "text": [
      "FP upper Bound on subset: 26.0\n",
      "TP lower Bound on subset: 49.0\n",
      "FDP upper Bound on subset: 0.3466666666666667\n",
      "TP lower Bound on subset: 0.6533333333333333\n",
      "\n",
      "We can thus conclude that with probability 0.9 that 49.0 of the hypotheses within the given subset are active.\n",
      "As such we obtain a TDP lower bound of 0.65 on the proportion of active hypothesis with that subset.\n"
     ]
    }
   ],
   "source": [
    "# Get the first 100 pvalues (or any subset of the p-values)\n",
    "subset_pvals = np.sort(np.ravel(orig_pvalues.field))[:75]\n",
    "npvals = len(subset_pvals)\n",
    "\n",
    "# Compute an upper bound on the number of null hypotheses\n",
    "bound = ss.max_fp(subset_pvals, thr)\n",
    "print('FP upper Bound on subset:', bound)\n",
    "print('TP lower Bound on subset:', npvals - bound)\n",
    "print('FDP upper Bound on subset:', bound/npvals)\n",
    "print('TP lower Bound on subset:', (npvals - bound)/npvals)\n",
    "\n",
    "confidence = 1-alpha\n",
    "print('\\nWe can thus conclude that with probability', confidence, 'that', npvals - bound, 'of the hypotheses within the given subset are active.')\n",
    "print('As such we obtain a TDP lower bound of', np.round((npvals - bound)/npvals,2), 'on the proportion of active hypothesis with that subset.')"
   ]
  },
  {
   "cell_type": "markdown",
   "metadata": {},
   "source": [
    "### Confidence Envelopes"
   ]
  },
  {
   "cell_type": "code",
   "execution_count": 74,
   "metadata": {},
   "outputs": [
    {
     "name": "stdout",
     "output_type": "stream",
     "text": [
      "[ 0.  0.  0.  0.  0.  0.  0.  0.  0.  0.  0.  0.  0.  0.  0.  0.  0.  1.\n",
      "  1.  1.  1.  1.  1.  1.  1.  2.  2.  2.  2.  2.  2.  3.  3.  3.  3.  3.\n",
      "  3.  4.  4.  5.  5.  6.  6.  6.  7.  7.  7.  8.  9. 10. 11. 11. 12. 12.\n",
      " 12. 12. 13. 13. 13. 14. 14. 14. 15. 16. 16. 17. 18. 19. 20. 21. 22. 23.\n",
      " 24. 25. 26. 26. 27. 27. 27. 28. 28. 29. 29. 29. 30. 31. 31. 32. 33. 34.\n",
      " 35. 36. 37. 38. 39. 40. 41. 42. 43. 44.]\n",
      "[0. 0. 0. 0. 0. 0. 0. 0. 0. 0.]\n"
     ]
    }
   ],
   "source": [
    "# These are the confidence envelopes. I.e. for i = 1:npvals, max_FP[i-1] is the upper bound on the number of \n",
    "# false positives that occur within the set [p[0], \\dots, p[i-1]] if you were to reject all elements of that set.\n",
    "max_FP = ss.curve_max_fp(subset_pvals, thr) # Confidence envelope on the chosen subset\n",
    "print(max_FP)\n",
    "max_FP = ss.curve_max_fp(pvals, thr) # Confidence envelope on all of them\n",
    "print(max_FP[0: 10])"
   ]
  },
  {
   "cell_type": "markdown",
   "metadata": {},
   "source": [
    "#### Plot the FPR and TP curve bounds"
   ]
  },
  {
   "cell_type": "code",
   "execution_count": 55,
   "metadata": {},
   "outputs": [
    {
     "data": {
      "image/png": "[encoded data removed]",
      "text/plain": [
       "<Figure size 720x288 with 2 Axes>"
      ]
     },
     "metadata": {
      "needs_background": "light"
     },
     "output_type": "display_data"
    }
   ],
   "source": [
    "# Generate the vector [0,...,npvals]\n",
    "one2npvals = np.arange(1, npvals + 1)\n",
    "\n",
    "# Choose the number of p-values (always the smallest ones first) to plot\n",
    "lowestnumber = 100\n",
    "\n",
    "# Ensure that selected number is not greater than the total number of p-values\n",
    "lowestnumber = np.min([lowestnumber, npvals])\n",
    "\n",
    "# Dividing the envelope by the number of elements in the set gives a bound on the false discovery proportion\n",
    "max_FDP = max_FP[0: lowestnumber] / one2npvals[0: lowestnumber] \n",
    "min_TP = one2npvals[0: lowestnumber] - max_FP[0: lowestnumber]\n",
    "\n",
    "# Calculate the truth (to determine if it is correctly bounded!)\n",
    "sorted_signal = np.ravel(bool_signal)[pval_sort_idx]\n",
    "TP = np.zeros(lowestnumber)\n",
    "for I in np.arange(lowestnumber):\n",
    "    TP[I] = np.sum(sorted_signal[0: I + 1])\n",
    "    \n",
    "# Calculate the true FDP for each subset\n",
    "FP = np.zeros(lowestnumber)\n",
    "for I in np.arange(lowestnumber):\n",
    "    FP[I] = np.sum(abs(sorted_signal[0: I + 1] - 1))\n",
    "true_FDP = FP / one2npvals[0: lowestnumber] \n",
    "    \n",
    "# Initialize the figure\n",
    "figure = plt.figure(figsize=(10, 4))\n",
    "\n",
    "# Plot the false discovery proportion and its bound\n",
    "plt.subplot(121)\n",
    "plt.plot(max_FDP, label='FDP bound')\n",
    "plt.plot(true_FDP, label='True FDP')\n",
    "plt.title('Upper bound on FDP amongst smallest p-values')\n",
    "plt.xlim(1, lowestnumber)\n",
    "plt.xlabel('k')\n",
    "plt.ylabel('FDP(p_{(1)}, \\dots, p_{(k)}')\n",
    "plt.legend(loc=\"upper right\")\n",
    "\n",
    "# Plot the true postives and their bound\n",
    "plt.subplot(122)\n",
    "plt.plot(min_TP, label='TP bound')\n",
    "plt.plot(TP, label='True Positives')\n",
    "plt.title('Lower bound on TP')\n",
    "plt.legend(loc=\"upper right\")\n",
    "plt.xlim(1, lowestnumber)\n",
    "plt.xlabel('k')\n",
    "plt.ylabel('TP(p_{(1)}, \\dots, p_{(k)}')\n",
    "#figure, axes = plt.subplots(nrows=1, ncols=2) \n",
    "figure.tight_layout(pad=1.0)"
   ]
  },
  {
   "cell_type": "code",
   "execution_count": 21,
   "metadata": {},
   "outputs": [
    {
     "data": {
      "text/plain": [
       "Text(0.5, 1.0, 'Plotting the ordered p-values for each bootstrap')"
      ]
     },
     "execution_count": 21,
     "metadata": {},
     "output_type": "execute_result"
    },
    {
     "data": {
      "image/png": "[encoded data removed]",
      "text/plain": [
       "<Figure size 432x288 with 1 Axes>"
      ]
     },
     "metadata": {
      "needs_background": "light"
     },
     "output_type": "display_data"
    }
   ],
   "source": [
    "maxbootpval = 0\n",
    "kmax = 150\n",
    "kvals = np.arange(kmax)\n",
    "for b in np.arange(B):\n",
    "    sorted_bootstraps = np.sort(bs[b,:])\n",
    "    plt.plot(sorted_bootstraps, color=\"blue\")\n",
    "    maxbootpval = np.max((maxbootpval, np.max(sorted_bootstraps[:kmax])))\n",
    "    \n",
    "# Emphasize a single curve\n",
    "curve2use = 10\n",
    "plt.plot(np.sort(bs[curve2use,:]), color=\"red\", linewidth = 3)\n",
    "    \n",
    "plt.plot(thr,color=\"black\")\n",
    "    \n",
    "plt.xlim(0, kmax)\n",
    "plt.ylim(0, maxbootpval)\n",
    "#plt.ylim(0, 0.0005)\n",
    "plt.xlabel('i')\n",
    "plt.ylabel('p_{b,(i)}')\n",
    "plt.title('Plotting the ordered p-values for each bootstrap')\n"
   ]
  },
  {
   "cell_type": "markdown",
   "metadata": {},
   "source": [
    "As can be seen we obtain an upper bound on the false discovery proportion and a lower bound on the number of true positives with each set. Note that this bound is valid 95% of the time."
   ]
  },
  {
   "cell_type": "markdown",
   "metadata": {},
   "source": [
    "### Bootstrap paths"
   ]
  },
  {
   "cell_type": "code",
   "execution_count": 15,
   "metadata": {},
   "outputs": [
    {
     "data": {
      "text/plain": [
       "Text(0.5, 1.0, 'Plotting the ordered p-values for each bootstrap')"
      ]
     },
     "execution_count": 15,
     "metadata": {},
     "output_type": "execute_result"
    },
    {
     "data": {
      "image/png": "[encoded data removed]",
      "text/plain": [
       "<Figure size 432x288 with 1 Axes>"
      ]
     },
     "metadata": {
      "needs_background": "light"
     },
     "output_type": "display_data"
    }
   ],
   "source": [
    "maxbootpval = 0\n",
    "kmax = 5000\n",
    "kvals = np.arange(kmax)\n",
    "for b in np.arange(B):\n",
    "    sorted_bootstraps = np.sort(bs[b,:])\n",
    "    plt.plot(np.log(sorted_bootstraps), color=\"blue\")\n",
    "    maxbootpval = np.max((maxbootpval, np.max(sorted_bootstraps[:kmax])))\n",
    "    \n",
    "# Emphasize a single curve\n",
    "curve2use = 2\n",
    "plt.plot(np.log(np.sort(bs[curve2use,:])), color=\"red\", linewidth = 3)\n",
    "    \n",
    "plt.plot(np.log(thr),color=\"black\")\n",
    "    \n",
    "plt.xlim(0, 100)\n",
    "#plt.ylim(0, maxbootpval)\n",
    "plt.xlabel('i')\n",
    "plt.ylabel('p_{b,(i)}')\n",
    "plt.title('Plotting the ordered p-values for each bootstrap')"
   ]
  },
  {
   "cell_type": "markdown",
   "metadata": {},
   "source": [
    "## 3D fMRI Real Data Example"
   ]
  },
  {
   "cell_type": "code",
   "execution_count": 9,
   "metadata": {},
   "outputs": [],
   "source": [
    "# Real data directory\n",
    "import os\n",
    "from data.download import download_and_extract_zip_from_dropbox\n",
    "data_dir = os.path.join(os.getcwd(),'data')\n",
    "real_data_dir = os.path.join(os.getcwd(),'data','example_real_data')"
   ]
  },
  {
   "cell_type": "markdown",
   "metadata": {},
   "source": [
    "Download the data - this takes a few seconds"
   ]
  },
  {
   "cell_type": "code",
   "execution_count": 4,
   "metadata": {},
   "outputs": [],
   "source": [
    "# Provide Dropbox file URL and Local system path where file needs to be downloaded and extracted.\n",
    "bold_files, covariates = download_and_extract_zip_from_dropbox(real_data_dir)"
   ]
  },
  {
   "cell_type": "markdown",
   "metadata": {},
   "source": [
    "This dataset was derived from the Wu-Minn HCP working memory task. Here is some further detail on the task itself.\n",
    "\n",
    "**The Task**\n",
    "\n",
    "In the experiment, 77 unrelated subjects performed two tasks spread across two runs where each run contained four blocks. During each block, the subject undertook either a 2-back memory task or a 0-back control task. The experimental design was arranged such that, in each run, two blocks were designated to the 2-back memory task, and two blocks were designated to the 0-back control task. In each block a subject was shown a stimuli image (a picture of a face or a place, for instance) and then asked to recall the image they were shown. They were either asked to recall the most recent image (the '0-back' image) or the image shown to them two images prior (the '2-back' image). Interest lies in assessing whether this delay impacted the \\%BOLD response.\n",
    "\n",
    "**First-level Analysis**\n",
    "\n",
    "In FSL, a first-level analysis has been conducted independently for each subject. In each first-level analysis, the task design was regressed onto Blood Oxygenation Level Dependent (BOLD) response and a Contrast Parameter Estimate (COPE) map was generated. Each COPE map represents, for a given subject, the difference in BOLD response between the subject performing the 2-back task and the 0-back task (e.g $L\\hat{\\beta}=\\hat{\\beta}_{\\text{2-Back}}-\\hat{\\beta}_{\\text{0-Back}})$).\n",
    "\n",
    "**Acquisition Details**\n",
    "\n",
    "All image acquisitions were obtained using a $32$ channel head coil on a modified $3T$ Siemans Skyra scanner via a gradient-echo EPI sequence with TR $=720$ ms, TE $=33.1$ ms, $2.0$ mm slice thickness, $72$ slices, $2.0$ mm isotropic voxels, $208$ mm $\\times 180$ mm FOV, and a multi-band acceleration factor of $8$.\n",
    "\n",
    "**The Data**\n",
    "\n",
    "You have the COPE map for each subject and the following covariates for each subject, both sorted by subject ID.\n",
    " - `Age`: The subject's age.\n",
    " - `Sex`: The subject's biological sex, with male encoded as `0` and female encoded as `1`.\n",
    " - `PMAT24_A_CR`: The number of correct responses from the Penn Progressive matrices; a measure of the subject's fluid intelligence.\n",
    " \n",
    "For more information on these variables, please visit [this link](https://wiki.humanconnectome.org/display/PublicData/HCP-YA+Data+Dictionary-+Updated+for+the+1200+Subject+Release). Here is a brief view of the data.\n"
   ]
  },
  {
   "cell_type": "markdown",
   "metadata": {},
   "source": [
    "**The Task**\n",
    "\n",
    "The task is to fit the following model at each voxel $v$ and to provide TDP bounds on selected regions. \n",
    "\n",
    "$$Y(v) = \\beta_0 + \\text{Sex} \\beta_1 + \\text{Age} \\beta_2 + \\text{PMAT24_A_CR} \\beta_3 $$\n",
    "\n",
    "To do so you need to load in the data and run the methods above to obtain a lambda calibration. You can then select subset of the data of your choosing and provide bounds on the number of true postives in each subset.\n",
    "\n",
    "Feel free to look at the data first. The bounds are valid for any subset, including data-driven ones.\n"
   ]
  },
  {
   "cell_type": "markdown",
   "metadata": {},
   "source": [
    "First we will load the data into memory."
   ]
  },
  {
   "cell_type": "code",
   "execution_count": 69,
   "metadata": {},
   "outputs": [],
   "source": [
    "from nilearn.image import get_data, load_img\n",
    "from nilearn.input_data import NiftiMasker\n",
    "fwhm = 5\n",
    "mask = data_dir + '\\\\mask_GM_forFunc.nii'\n",
    "data_loc = real_data_dir + '\\\\HCP_U77_WM\\\\'\n",
    "bold_files = pr.list_files(data_loc, '.nii.gz', 1)\n",
    "masker = NiftiMasker(smoothing_fwhm=fwhm, mask_img=mask).fit()\n",
    "data = masker.transform(bold_files).transpose()"
   ]
  },
  {
   "cell_type": "markdown",
   "metadata": {},
   "source": [
    "Let's now plot the mean of the data"
   ]
  },
  {
   "cell_type": "code",
   "execution_count": 140,
   "metadata": {},
   "outputs": [],
   "source": [
    "data_mean = np.mean(data, 1)\n",
    "data_mean_3d = np.squeeze(\n",
    "    get_data(masker.inverse_transform(data_mean.transpose())))"
   ]
  },
  {
   "cell_type": "code",
   "execution_count": 146,
   "metadata": {},
   "outputs": [
    {
     "data": {
      "text/plain": [
       "<matplotlib.image.AxesImage at 0x24a7ec70>"
      ]
     },
     "execution_count": 146,
     "metadata": {},
     "output_type": "execute_result"
    },
    {
     "data": {
      "image/png": "[encoded data removed]",
      "text/plain": [
       "<Figure size 432x288 with 1 Axes>"
      ]
     },
     "metadata": {
      "needs_background": "light"
     },
     "output_type": "display_data"
    }
   ],
   "source": [
    "plt.imshow(data_mean_3d[:,:,23])"
   ]
  },
  {
   "cell_type": "code",
   "execution_count": 135,
   "metadata": {},
   "outputs": [
    {
     "data": {
      "text/plain": [
       "(array([1.600000e+01, 6.300000e+01, 9.630000e+02, 2.178700e+04,\n",
       "        3.021874e+06, 1.339949e+06, 1.513500e+04, 6.290000e+02,\n",
       "        5.200000e+01, 5.000000e+00]),\n",
       " array([-372.57666 , -296.44403 , -220.3114  , -144.17877 ,  -68.04614 ,\n",
       "           8.086487,   84.21912 ,  160.35175 ,  236.48438 ,  312.617   ,\n",
       "         388.74963 ], dtype=float32),\n",
       " <a list of 10 Patch objects>)"
      ]
     },
     "execution_count": 135,
     "metadata": {},
     "output_type": "execute_result"
    },
    {
     "data": {
      "image/png": "[encoded data removed]",
      "text/plain": [
       "<Figure size 432x288 with 1 Axes>"
      ]
     },
     "metadata": {
      "needs_background": "light"
     },
     "output_type": "display_data"
    }
   ],
   "source": [
    "plt.hist(np.ravel(data))"
   ]
  },
  {
   "cell_type": "markdown",
   "metadata": {},
   "source": [
    "Next we will load in the covariates. The covariates file: 'behavioural_data_subset_77.csv' corresponds to a subset of the unresticted covariates of the 77 subjects. The full set of unrestricted is available on the HCP website MAKE LINK!"
   ]
  },
  {
   "cell_type": "code",
   "execution_count": 70,
   "metadata": {},
   "outputs": [
    {
     "name": "stdout",
     "output_type": "stream",
     "text": [
      "    Subject  Sex   Age  PMAT24_A_CR  PSQI_Score\n",
      "0    100307    1  28.0           17           4\n",
      "1    100408    0  33.0            7           4\n",
      "2    101915    1  33.0           21           6\n",
      "3    103414    1  23.5           17           9\n",
      "4    105115    0  33.0           22           6\n",
      "..      ...  ...   ...          ...         ...\n",
      "72   856766    1  33.0           10          11\n",
      "73   857263    0  23.5            8           0\n",
      "74   871964    0  28.0           23           3\n",
      "75   899885    1  28.0           20           8\n",
      "76   984472    1  28.0           22           5\n",
      "\n",
      "[77 rows x 5 columns]\n"
     ]
    }
   ],
   "source": [
    "import pandas as pd\n",
    "pd_data = pd.read_csv(\n",
    "    data_loc + 'behavioural_data_subset_77.csv')\n",
    "print(pd_data)\n",
    "design = np.zeros((77, 4))\n",
    "design[:, 1:4] = pd_data.values[:, 1:4]\n",
    "\n",
    "# Add an intercept:\n",
    "design[:, 0] = 1"
   ]
  },
  {
   "cell_type": "code",
   "execution_count": 194,
   "metadata": {},
   "outputs": [],
   "source": [
    "data_field = pr.make_field(data.copy())\n",
    "\n",
    "# Obtain the number of subjects\n",
    "nsubj = data_field.fibersize\n",
    "\n",
    "contrast_matrix = np.array((0,0,0,1))\n",
    "n_params = 4\n",
    "\n",
    "# Obtain the test statistics and convert to p-values\n",
    "test_stats, _ = pr.contrast_tstats(data_field, design, contrast_matrix)\n",
    "\n",
    "# pvalues = 2*(1 - t.cdf(abs(test_stats.field), nsubj-n_params))\n",
    "pvalues = pr.tstat2pval(test_stats.field, nsubj-n_params, 1)\n",
    "\n",
    "tstat_3d = np.squeeze(\n",
    "    get_data(masker.inverse_transform((test_stats.field).transpose())))"
   ]
  },
  {
   "cell_type": "code",
   "execution_count": 204,
   "metadata": {},
   "outputs": [
    {
     "data": {
      "text/plain": [
       "<matplotlib.image.AxesImage at 0x23acc1d8>"
      ]
     },
     "execution_count": 204,
     "metadata": {},
     "output_type": "execute_result"
    },
    {
     "data": {
      "image/png": "[encoded data removed]",
      "text/plain": [
       "<Figure size 432x288 with 1 Axes>"
      ]
     },
     "metadata": {
      "needs_background": "light"
     },
     "output_type": "display_data"
    }
   ],
   "source": [
    "plt.imshow(tstat_3d[:,:,29])"
   ]
  },
  {
   "cell_type": "code",
   "execution_count": 196,
   "metadata": {},
   "outputs": [
    {
     "data": {
      "text/plain": [
       "(array([11452.,  7582.,  6389.,  5904.,  5417.,  5038.,  4703.,  4214.,\n",
       "         3567.,  2883.]),\n",
       " array([5.40479434e-06, 9.99824890e-02, 1.99959573e-01, 2.99936657e-01,\n",
       "        3.99913742e-01, 4.99890826e-01, 5.99867910e-01, 6.99844994e-01,\n",
       "        7.99822079e-01, 8.99799163e-01, 9.99776247e-01]),\n",
       " <a list of 10 Patch objects>)"
      ]
     },
     "execution_count": 196,
     "metadata": {},
     "output_type": "execute_result"
    },
    {
     "data": {
      "image/png": "[encoded data removed]",
      "text/plain": [
       "<Figure size 432x288 with 1 Axes>"
      ]
     },
     "metadata": {
      "needs_background": "light"
     },
     "output_type": "display_data"
    }
   ],
   "source": [
    "plt.hist(pvalues)"
   ]
  },
  {
   "cell_type": "code",
   "execution_count": 197,
   "metadata": {},
   "outputs": [
    {
     "name": "stdout",
     "output_type": "stream",
     "text": [
      "[=================== ] 98%"
     ]
    }
   ],
   "source": [
    "n_bootstraps = 100\n",
    "minPperm, origpvals, pivotal_stats, bootstore = pr.boot_contrasts(\n",
    "    data.copy(), design, contrast_matrix, n_bootstraps=n_bootstraps,\n",
    "    display_progress=1, store_boots=1, doonesample=1)"
   ]
  },
  {
   "cell_type": "code",
   "execution_count": 207,
   "metadata": {},
   "outputs": [
    {
     "name": "stdout",
     "output_type": "stream",
     "text": [
      "417.0\n"
     ]
    }
   ],
   "source": [
    "alpha = 0.1\n",
    "lambda_quant = np.quantile(pivotal_stats, alpha)\n",
    "nhypotheses = np.prod(origpvals.field.shape)\n",
    "\n",
    "sorted_pvalues = np.sort(origpvals.field, 0)\n",
    "pvalue_subset = sorted_pvalues[0:1000]\n",
    "\n",
    "FP_bound, TP_bound, FDP_bound, TDP_bound = pr.get_bounds(\n",
    "    pvalue_subset, lambda_quant, nhypotheses)\n",
    "print(TP_bound)"
   ]
  },
  {
   "cell_type": "code",
   "execution_count": 208,
   "metadata": {},
   "outputs": [],
   "source": [
    "mask_im = load_img(mask).get_fdata()\n",
    "cdt = 2\n",
    "\n",
    "cluster_im, cluster_sizes = pr.find_clusters(tstat_3d, cdt, below=0, mask=mask_im, min_cluster_size = 500)"
   ]
  },
  {
   "cell_type": "code",
   "execution_count": 209,
   "metadata": {},
   "outputs": [
    {
     "data": {
      "text/plain": [
       "array([799., 650., 647.])"
      ]
     },
     "execution_count": 209,
     "metadata": {},
     "output_type": "execute_result"
    }
   ],
   "source": [
    "cluster_sizes"
   ]
  },
  {
   "cell_type": "code",
   "execution_count": 210,
   "metadata": {},
   "outputs": [
    {
     "name": "stdout",
     "output_type": "stream",
     "text": [
      "1.0\n"
     ]
    }
   ],
   "source": [
    "# Compute the TP bounds within the clusters\n",
    "region_idx = cluster_im == 1\n",
    "FP_bound, TP_bound, FDP_bound, TDP_bound = pr.get_bounds(\n",
    "    pvalues_3d[region_idx], lambda_quant, nhypotheses)\n",
    "print(TP_bound)"
   ]
  },
  {
   "cell_type": "markdown",
   "metadata": {},
   "source": [
    "We can also have a look at the original p-values by themselves and use these to influence our choice of subset. Recall that the control is simultaneous so its okay to look at the data in order to choose your subset."
   ]
  },
  {
   "cell_type": "markdown",
   "metadata": {},
   "source": [
    "## Experimenting"
   ]
  },
  {
   "cell_type": "markdown",
   "metadata": {},
   "source": [
    "Can you plot a confidence curve plot for the TDP?"
   ]
  },
  {
   "cell_type": "markdown",
   "metadata": {},
   "source": [
    "Can you think of other contrasts that could be of interest here? Experiment with changing the contrast_matrix. How about other models? "
   ]
  },
  {
   "cell_type": "markdown",
   "metadata": {},
   "source": [
    "You can also test how varying the smoothness affects the results. Increasing the amount of smoothing increases the signal to noise ratio. "
   ]
  },
  {
   "cell_type": "markdown",
   "metadata": {},
   "source": [
    "Note that the simultaneity gaurantees assume a fixed level of smoothing. In order to provide simultaneous guarantees over multiple smoothing levels the joint distribution pvalues over the different smoothing levels would have to be bootstrapped"
   ]
  }
 ],
 "metadata": {
  "kernelspec": {
   "display_name": "Python 3",
   "language": "python",
   "name": "python3"
  },
  "language_info": {
   "codemirror_mode": {
    "name": "ipython",
    "version": 3
   },
   "file_extension": ".py",
   "mimetype": "text/x-python",
   "name": "python",
   "nbconvert_exporter": "python",
   "pygments_lexer": "ipython3",
   "version": "3.8.3"
  }
 },
 "nbformat": 4,
 "nbformat_minor": 4
}
